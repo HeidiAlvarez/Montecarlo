{
 "cells": [
  {
   "cell_type": "code",
   "execution_count": 1,
   "id": "bf9910f3",
   "metadata": {},
   "outputs": [],
   "source": [
    "import numpy as np\n",
    "import pandas as pd\n",
    "import numpy as np\n",
    "from scipy.stats import f\n",
    "import scipy.stats as stats"
   ]
  },
  {
   "cell_type": "code",
   "execution_count": 2,
   "id": "6399091a",
   "metadata": {},
   "outputs": [
    {
     "name": "stdout",
     "output_type": "stream",
     "text": [
      "\t Datos Movimiento Propio \n",
      "\n",
      "\n",
      "Media Global = \t\t\t 6.410048168106807\n",
      "Media 0.0001 de los datos = \t 6.418163670814065\n",
      "Media 0.001 de los datos = \t 6.41016294241876\n",
      "Media 0.01 de los datos = \t 6.410463862363813\n",
      "Media 0.1 de los datos = \t 6.409933398649557\n",
      "\n",
      "\n",
      "Desviacion Global = \t\t\t\t 5.996642315255443\n",
      "Media de Desviacion 0.0001 de los datos = \t 5.827422091759874\n",
      "Media de Desviacion 0.001 de los datos = \t 5.948219186099364\n",
      "Media de Desviacion 0.01 de los datos = \t 6.00042210128776\n",
      "Media de Desviacion 0.1 de los datos = \t\t 5.9987392489165225\n"
     ]
    }
   ],
   "source": [
    "datos_pm = pd.read_table('/home/heidi/Documentos/Master/Datos/KDE/estadisticas_pm.txt')\n",
    "\n",
    "media_global = datos_pm.loc[datos_pm['Fuente']=='Global', 'Media'].values[0]\n",
    "\n",
    "media_0001_lista = datos_pm.loc[(datos_pm['Puntos'] > 1400) & (datos_pm['Puntos'] < 14000), 'Media'].tolist()\n",
    "media_0001 = np.mean(media_0001_lista)\n",
    "\n",
    "media_001_lista = datos_pm.loc[(datos_pm['Puntos'] > 14000) & (datos_pm['Puntos'] < 140000), 'Media'].tolist()\n",
    "media_001 = np.mean(media_001_lista)\n",
    "\n",
    "media_01_lista = datos_pm.loc[(datos_pm['Puntos'] > 140000) & (datos_pm['Puntos'] < 1400000), 'Media'].tolist()\n",
    "media_01 = np.mean(media_01_lista)\n",
    "\n",
    "media_1_lista = datos_pm.loc[datos_pm['Puntos'] > 1400000, 'Media'].tolist()\n",
    "media_1 = np.mean(media_1_lista)\n",
    "\n",
    "print('\\t Datos Movimiento Propio \\n\\n')\n",
    "print('Media Global = \\t\\t\\t', media_global)\n",
    "print('Media 0.0001 de los datos = \\t', media_0001)\n",
    "print('Media 0.001 de los datos = \\t', media_001)\n",
    "print('Media 0.01 de los datos = \\t', media_01)\n",
    "print('Media 0.1 de los datos = \\t', media_1)\n",
    "\n",
    "## Desviacion Estandar\n",
    "\n",
    "desviacion_global = datos_pm.loc[datos_pm['Fuente']=='Global', 'Desviacion_Estandar'].values[0]\n",
    "\n",
    "desviacion_0001_lista = datos_pm.loc[(datos_pm['Puntos'] > 1400) & (datos_pm['Puntos'] < 14000), 'Desviacion_Estandar'].tolist()\n",
    "desviacion_0001 = np.mean(desviacion_0001_lista)\n",
    "\n",
    "desviacion_001_lista = datos_pm.loc[(datos_pm['Puntos'] > 14000) & (datos_pm['Puntos'] < 140000), 'Desviacion_Estandar'].tolist()\n",
    "desviacion_001 = np.mean(desviacion_001_lista)\n",
    "\n",
    "desviacion_01_lista = datos_pm.loc[(datos_pm['Puntos'] > 140000) & (datos_pm['Puntos'] < 1400000), 'Desviacion_Estandar'].tolist()\n",
    "desviacion_01 = np.mean(desviacion_01_lista)\n",
    "\n",
    "desviacion_1_lista = datos_pm.loc[datos_pm['Puntos'] > 1400000, 'Desviacion_Estandar'].tolist()\n",
    "desviacion_1 = np.mean(desviacion_1_lista)\n",
    "\n",
    "print('\\n')\n",
    "print('Desviacion Global = \\t\\t\\t\\t', desviacion_global)\n",
    "print('Media de Desviacion 0.0001 de los datos = \\t', desviacion_0001)\n",
    "print('Media de Desviacion 0.001 de los datos = \\t', desviacion_001)\n",
    "print('Media de Desviacion 0.01 de los datos = \\t', desviacion_01)\n",
    "print('Media de Desviacion 0.1 de los datos = \\t\\t', desviacion_1)"
   ]
  },
  {
   "cell_type": "code",
   "execution_count": 3,
   "id": "d763113a",
   "metadata": {},
   "outputs": [
    {
     "data": {
      "text/plain": [
       "array([14587094,     1458,    14587,   145870,  1458709])"
      ]
     },
     "execution_count": 3,
     "metadata": {},
     "output_type": "execute_result"
    }
   ],
   "source": [
    "datos_pm['Puntos'].unique()"
   ]
  },
  {
   "cell_type": "code",
   "execution_count": 4,
   "id": "848958a7",
   "metadata": {
    "scrolled": true
   },
   "outputs": [
    {
     "name": "stdout",
     "output_type": "stream",
     "text": [
      "Media Global: 6.41\n",
      "SSB: 0.14, SSW: 582856760.38\n",
      "Grados de libertad - Entre grupos: 4, Dentro de grupos: 16207713\n",
      "MSB: 0.04, MSW: 35.96\n",
      "Estadístico F: 0.0010\n",
      "P-valor: 1.0000\n",
      "No se rechaza la hipótesis nula: No hay evidencia suficiente para afirmar diferencias.\n"
     ]
    }
   ],
   "source": [
    "## Anova para el movimiento propio:\n",
    "\n",
    "n_global = 14587094\n",
    "n_10     = 1458709\n",
    "n_01     = 145870\n",
    "n_001    = 14587\n",
    "n_0001   = 1458\n",
    "\n",
    "\n",
    "# Datos proporcionados (reemplaza con tus valores)\n",
    "grupos = {\n",
    "    \"Global\": {\"media\": media_global, \"std\": desviacion_global, \"n\": n_global},\n",
    "    \"10%\": {\"media\": media_1, \"std\": desviacion_1, \"n\": n_10},\n",
    "    \"1%\": {\"media\": media_01, \"std\": desviacion_01, \"n\": n_01},\n",
    "    \"0.1%\": {\"media\": media_001, \"std\": desviacion_001, \"n\": n_001},\n",
    "    \"0.01%\": {\"media\": media_0001, \"std\": desviacion_0001, \"n\": n_0001},\n",
    "}\n",
    "\n",
    "# 1. Calcular la media global ponderada\n",
    "N_total = sum(grupo[\"n\"] for grupo in grupos.values())\n",
    "media_global = sum(grupo[\"media\"] * grupo[\"n\"] for grupo in grupos.values()) / N_total\n",
    "\n",
    "# 2. Calcular SSB (suma de cuadrados entre grupos)\n",
    "SSB = sum(grupo[\"n\"] * (grupo[\"media\"] - media_global) ** 2 for grupo in grupos.values())\n",
    "\n",
    "# 3. Calcular SSW (suma de cuadrados dentro de los grupos)\n",
    "SSW = sum((grupo[\"n\"] - 1) * (grupo[\"std\"] ** 2) for grupo in grupos.values())\n",
    "\n",
    "# 4. Grados de libertad\n",
    "k = len(grupos)  # Número de grupos\n",
    "df_B = k - 1\n",
    "df_W = N_total - k\n",
    "\n",
    "# 5. Calcular MSB y MSW\n",
    "MSB = SSB / df_B\n",
    "MSW = SSW / df_W\n",
    "\n",
    "# 6. Calcular estadístico F\n",
    "F_value = MSB / MSW\n",
    "\n",
    "# 7. Calcular p-valor\n",
    "p_value = 1 - f.cdf(F_value, df_B, df_W)\n",
    "\n",
    "# Resultados\n",
    "print(f\"Media Global: {media_global:.2f}\")\n",
    "print(f\"SSB: {SSB:.2f}, SSW: {SSW:.2f}\")\n",
    "print(f\"Grados de libertad - Entre grupos: {df_B}, Dentro de grupos: {df_W}\")\n",
    "print(f\"MSB: {MSB:.2f}, MSW: {MSW:.2f}\")\n",
    "print(f\"Estadístico F: {F_value:.4f}\")\n",
    "print(f\"P-valor: {p_value:.4f}\")\n",
    "\n",
    "# Interpretación\n",
    "alpha = 0.05\n",
    "if p_value < alpha:\n",
    "    print(\"Rechazamos la hipótesis nula: Hay diferencias significativas entre los grupos.\")\n",
    "else:\n",
    "    print(\"No se rechaza la hipótesis nula: No hay evidencia suficiente para afirmar diferencias.\")\n"
   ]
  },
  {
   "cell_type": "code",
   "execution_count": 5,
   "id": "a317b1ce",
   "metadata": {},
   "outputs": [
    {
     "name": "stdout",
     "output_type": "stream",
     "text": [
      "Estadístico de Bartlett: 6.6444\n",
      "P-valor: 0.1559\n",
      "No hay evidencia suficiente para decir que las varianzas son diferentes (se acepta la hipótesis nula).\n"
     ]
    }
   ],
   "source": [
    "n = [14587094, 1458709, 145870, 14587, 1458] \n",
    "std = [desviacion_global, desviacion_1, desviacion_01, desviacion_001, desviacion_0001]  # Ejemplo de desviaciones estándar\n",
    "\n",
    "# Convertir desviaciones estándar a varianzas\n",
    "variances = np.array(std) ** 2\n",
    "\n",
    "# Aplicar la prueba de Bartlett\n",
    "statistic, p_value = stats.bartlett(*[np.random.normal(0, np.sqrt(variances[i]), n[i]) for i in range(len(n))])\n",
    "\n",
    "# Mostrar resultados\n",
    "print(f\"Estadístico de Bartlett: {statistic:.4f}\")\n",
    "print(f\"P-valor: {p_value:.4f}\")\n",
    "\n",
    "# Interpretación\n",
    "if p_value < 0.05:\n",
    "    print(\"Las varianzas son significativamente diferentes (se rechaza la hipótesis nula).\")\n",
    "else:\n",
    "    print(\"No hay evidencia suficiente para decir que las varianzas son diferentes (se acepta la hipótesis nula).\")\n"
   ]
  },
  {
   "cell_type": "code",
   "execution_count": 6,
   "id": "23aa1bea",
   "metadata": {},
   "outputs": [
    {
     "name": "stdout",
     "output_type": "stream",
     "text": [
      "\t Datos Velocidad Radial \n",
      "\n",
      "\n",
      "Media Global = \t\t\t -4.796010605947052\n",
      "Media 0.0001 de los datos = \t -5.024859251317162\n",
      "Media 0.001 de los datos = \t -4.7647973737964495\n",
      "Media 0.01 de los datos = \t -4.805152180278288\n",
      "Media 0.1 de los datos = \t -4.799304389123602\n",
      "\n",
      "\n",
      "Desviacion Global = \t\t\t\t 54.14347610415408\n",
      "Media de Desviacion 0.0001 de los datos = \t 52.11845137402983\n",
      "Media de Desviacion 0.001 de los datos = \t 54.11322830745592\n",
      "Media de Desviacion 0.01 de los datos = \t 54.29048201724933\n",
      "Media de Desviacion 0.1 de los datos = \t\t 54.325580367222784\n"
     ]
    }
   ],
   "source": [
    "datos_vRadial = pd.read_table('/home/heidi/Documentos/Master/Datos/KDE/estadisticas_vRadial.txt')\n",
    "media_global = datos_vRadial.loc[datos_vRadial['Fuente']=='Global', 'Media'].values[0]\n",
    "\n",
    "media_0001_lista = datos_vRadial.loc[(datos_vRadial['Puntos'] > 30) & (datos_vRadial['Puntos'] < 300), 'Media'].tolist()\n",
    "media_0001 = np.mean(media_0001_lista)\n",
    "\n",
    "media_001_lista = datos_vRadial.loc[(datos_vRadial['Puntos'] > 300) & (datos_vRadial['Puntos'] < 3000), 'Media'].tolist()\n",
    "media_001 = np.mean(media_001_lista)\n",
    "\n",
    "media_01_lista = datos_vRadial.loc[(datos_vRadial['Puntos'] > 3000) & (datos_vRadial['Puntos'] < 30000), 'Media'].tolist()\n",
    "media_01 = np.mean(media_01_lista)\n",
    "\n",
    "media_1_lista = datos_vRadial.loc[datos_vRadial['Puntos'] > 30000, 'Media'].tolist()\n",
    "media_1 = np.mean(media_1_lista)\n",
    "\n",
    "print('\\t Datos Velocidad Radial \\n\\n')\n",
    "print('Media Global = \\t\\t\\t', media_global)\n",
    "print('Media 0.0001 de los datos = \\t', media_0001)\n",
    "print('Media 0.001 de los datos = \\t', media_001)\n",
    "print('Media 0.01 de los datos = \\t', media_01)\n",
    "print('Media 0.1 de los datos = \\t', media_1)\n",
    "\n",
    "## Desviacion Estandar\n",
    "\n",
    "desviacion_global = datos_vRadial.loc[datos_vRadial['Fuente']=='Global', 'Desviacion_Estandar'].values[0]\n",
    "\n",
    "desviacion_0001_lista = datos_vRadial.loc[(datos_vRadial['Puntos'] > 30) & (datos_vRadial['Puntos'] < 320), 'Desviacion_Estandar'].tolist()\n",
    "desviacion_0001 = np.mean(desviacion_0001_lista)\n",
    "\n",
    "desviacion_001_lista = datos_vRadial.loc[(datos_vRadial['Puntos'] > 320) & (datos_vRadial['Puntos'] < 3200), 'Desviacion_Estandar'].tolist()\n",
    "desviacion_001 = np.mean(desviacion_001_lista)\n",
    "\n",
    "desviacion_01_lista = datos_vRadial.loc[(datos_vRadial['Puntos'] > 3200) & (datos_vRadial['Puntos'] < 32000), 'Desviacion_Estandar'].tolist()\n",
    "desviacion_01 = np.mean(desviacion_01_lista)\n",
    "\n",
    "desviacion_1_lista = datos_vRadial.loc[datos_vRadial['Puntos'] > 32000, 'Desviacion_Estandar'].tolist()\n",
    "desviacion_1 = np.mean(desviacion_1_lista)\n",
    "\n",
    "print('\\n')\n",
    "print('Desviacion Global = \\t\\t\\t\\t', desviacion_global)\n",
    "print('Media de Desviacion 0.0001 de los datos = \\t', desviacion_0001)\n",
    "print('Media de Desviacion 0.001 de los datos = \\t', desviacion_001)\n",
    "print('Media de Desviacion 0.01 de los datos = \\t', desviacion_01)\n",
    "print('Media de Desviacion 0.1 de los datos = \\t\\t', desviacion_1)"
   ]
  },
  {
   "cell_type": "code",
   "execution_count": 7,
   "id": "a7c71f0d",
   "metadata": {},
   "outputs": [
    {
     "data": {
      "text/plain": [
       "array([324886,     32,    324,   3248,  32488])"
      ]
     },
     "execution_count": 7,
     "metadata": {},
     "output_type": "execute_result"
    }
   ],
   "source": [
    "datos_vRadial['Puntos'].unique()"
   ]
  },
  {
   "cell_type": "code",
   "execution_count": 8,
   "id": "da67996a",
   "metadata": {},
   "outputs": [
    {
     "name": "stdout",
     "output_type": "stream",
     "text": [
      "Media Global: -4.80\n",
      "SSB: 2.57, SSW: 1058883862.22\n",
      "Grados de libertad - Entre grupos: 4, Dentro de grupos: 360973\n",
      "MSB: 0.64, MSW: 2933.42\n",
      "Estadístico F: 0.0002\n",
      "P-valor: 1.0000\n",
      "No se rechaza la hipótesis nula: No hay evidencia suficiente para afirmar diferencias.\n"
     ]
    }
   ],
   "source": [
    "## Anova para el movimiento propio:\n",
    "\n",
    "n_global = 324886\n",
    "n_10     = 32488\n",
    "n_01     = 3248\n",
    "n_001    = 324\n",
    "n_0001   = 32\n",
    "\n",
    "\n",
    "# Datos proporcionados (reemplaza con tus valores)\n",
    "grupos = {\n",
    "    \"Global\": {\"media\": media_global, \"std\": desviacion_global, \"n\": n_global},\n",
    "    \"10%\": {\"media\": media_1, \"std\": desviacion_1, \"n\": n_10},\n",
    "    \"1%\": {\"media\": media_01, \"std\": desviacion_01, \"n\": n_01},\n",
    "    \"0.1%\": {\"media\": media_001, \"std\": desviacion_001, \"n\": n_001},\n",
    "    \"0.01%\": {\"media\": media_0001, \"std\": desviacion_0001, \"n\": n_0001},\n",
    "}\n",
    "\n",
    "# 1. Calcular la media global ponderada\n",
    "N_total = sum(grupo[\"n\"] for grupo in grupos.values())\n",
    "media_global = sum(grupo[\"media\"] * grupo[\"n\"] for grupo in grupos.values()) / N_total\n",
    "\n",
    "# 2. Calcular SSB (suma de cuadrados entre grupos)\n",
    "SSB = sum(grupo[\"n\"] * (grupo[\"media\"] - media_global) ** 2 for grupo in grupos.values())\n",
    "\n",
    "# 3. Calcular SSW (suma de cuadrados dentro de los grupos)\n",
    "SSW = sum((grupo[\"n\"] - 1) * (grupo[\"std\"] ** 2) for grupo in grupos.values())\n",
    "\n",
    "# 4. Grados de libertad\n",
    "k = len(grupos)  # Número de grupos\n",
    "df_B = k - 1\n",
    "df_W = N_total - k\n",
    "\n",
    "# 5. Calcular MSB y MSW\n",
    "MSB = SSB / df_B\n",
    "MSW = SSW / df_W\n",
    "\n",
    "# 6. Calcular estadístico F\n",
    "F_value = MSB / MSW\n",
    "\n",
    "# 7. Calcular p-valor\n",
    "p_value = 1 - f.cdf(F_value, df_B, df_W)\n",
    "\n",
    "# Resultados\n",
    "print(f\"Media Global: {media_global:.2f}\")\n",
    "print(f\"SSB: {SSB:.2f}, SSW: {SSW:.2f}\")\n",
    "print(f\"Grados de libertad - Entre grupos: {df_B}, Dentro de grupos: {df_W}\")\n",
    "print(f\"MSB: {MSB:.2f}, MSW: {MSW:.2f}\")\n",
    "print(f\"Estadístico F: {F_value:.4f}\")\n",
    "print(f\"P-valor: {p_value:.4f}\")\n",
    "\n",
    "# Interpretación\n",
    "alpha = 0.05\n",
    "if p_value < alpha:\n",
    "    print(\"Rechazamos la hipótesis nula: Hay diferencias significativas entre los grupos.\")\n",
    "else:\n",
    "    print(\"No se rechaza la hipótesis nula: No hay evidencia suficiente para afirmar diferencias.\")\n"
   ]
  },
  {
   "cell_type": "code",
   "execution_count": 9,
   "id": "82918b98",
   "metadata": {},
   "outputs": [
    {
     "name": "stdout",
     "output_type": "stream",
     "text": [
      "Estadístico de Bartlett: 1.6952\n",
      "P-valor: 0.7916\n",
      "No hay evidencia suficiente para decir que las varianzas son diferentes (se acepta la hipótesis nula).\n"
     ]
    }
   ],
   "source": [
    "n = [324886, 32488, 3248, 324, 32] \n",
    "std = [desviacion_global, desviacion_1, desviacion_01, desviacion_001, desviacion_0001]  # Ejemplo de desviaciones estándar\n",
    "\n",
    "# Convertir desviaciones estándar a varianzas\n",
    "variances = np.array(std) ** 2\n",
    "\n",
    "# Aplicar la prueba de Bartlett\n",
    "statistic, p_value = stats.bartlett(*[np.random.normal(0, np.sqrt(variances[i]), n[i]) for i in range(len(n))])\n",
    "\n",
    "# Mostrar resultados\n",
    "print(f\"Estadístico de Bartlett: {statistic:.4f}\")\n",
    "print(f\"P-valor: {p_value:.4f}\")\n",
    "\n",
    "# Interpretación\n",
    "if p_value < 0.05:\n",
    "    print(\"Las varianzas son significativamente diferentes (se rechaza la hipótesis nula).\")\n",
    "else:\n",
    "    print(\"No hay evidencia suficiente para decir que las varianzas son diferentes (se acepta la hipótesis nula).\")\n"
   ]
  },
  {
   "cell_type": "code",
   "execution_count": 10,
   "id": "55f0a2d9",
   "metadata": {},
   "outputs": [
    {
     "name": "stdout",
     "output_type": "stream",
     "text": [
      "\t Datos Distancia Geometrica \n",
      "\n",
      "\n",
      "Media Global = \t\t\t 4068.736607493607\n",
      "Media 0.0001 de los datos = \t 4070.160302405067\n",
      "Media 0.001 de los datos = \t 4068.2475652075873\n",
      "Media 0.01 de los datos = \t 4068.8037511104867\n",
      "Media 0.1 de los datos = \t 4068.707929591204\n",
      "\n",
      "\n",
      "Desviacion Global = \t\t\t\t 2026.3411381059784\n",
      "Media de Desviacion 0.0001 de los datos = \t 2027.672072642638\n",
      "Media de Desviacion 0.001 de los datos = \t 2028.0655121153172\n",
      "Media de Desviacion 0.01 de los datos = \t 2027.8048107554632\n",
      "Media de Desviacion 0.1 de los datos = \t\t 2027.9004981400924\n"
     ]
    }
   ],
   "source": [
    "datos_rGeo = pd.read_table('/home/heidi/Documentos/Master/Datos/KDE/estadisticas_rGeo.txt')\n",
    "media_global = datos_rGeo.loc[datos_rGeo['Fuente']=='Global', 'Media'].values[0]\n",
    "\n",
    "media_0001_lista = datos_rGeo.loc[(datos_rGeo['Puntos'] > 1400) & (datos_rGeo['Puntos'] < 14000), 'Media'].tolist()\n",
    "media_0001 = np.mean(media_0001_lista)\n",
    "\n",
    "media_001_lista = datos_rGeo.loc[(datos_rGeo['Puntos'] > 14000) & (datos_rGeo['Puntos'] < 140000), 'Media'].tolist()\n",
    "media_001 = np.mean(media_001_lista)\n",
    "\n",
    "media_01_lista = datos_rGeo.loc[(datos_rGeo['Puntos'] > 140000) & (datos_rGeo['Puntos'] < 1400000), 'Media'].tolist()\n",
    "media_01 = np.mean(media_01_lista)\n",
    "\n",
    "media_1_lista = datos_rGeo.loc[datos_rGeo['Puntos'] > 1400000, 'Media'].tolist()\n",
    "media_1 = np.mean(media_1_lista)\n",
    "\n",
    "print('\\t Datos Distancia Geometrica \\n\\n')\n",
    "print('Media Global = \\t\\t\\t', media_global)\n",
    "print('Media 0.0001 de los datos = \\t', media_0001)\n",
    "print('Media 0.001 de los datos = \\t', media_001)\n",
    "print('Media 0.01 de los datos = \\t', media_01)\n",
    "print('Media 0.1 de los datos = \\t', media_1)\n",
    "\n",
    "## Desviacion Estandar\n",
    "\n",
    "desviacion_global = datos_rGeo.loc[datos_rGeo['Fuente']=='Global', 'Desviacion_Estandar'].values[0]\n",
    "\n",
    "desviacion_0001_lista = datos_rGeo.loc[(datos_rGeo['Puntos'] > 1400) & (datos_rGeo['Puntos'] < 14000), 'Desviacion_Estandar'].tolist()\n",
    "desviacion_0001 = np.mean(desviacion_0001_lista)\n",
    "\n",
    "desviacion_001_lista = datos_rGeo.loc[(datos_rGeo['Puntos'] > 14000) & (datos_rGeo['Puntos'] < 140000), 'Desviacion_Estandar'].tolist()\n",
    "desviacion_001 = np.mean(desviacion_001_lista)\n",
    "\n",
    "desviacion_01_lista = datos_rGeo.loc[(datos_rGeo['Puntos'] > 140000) & (datos_rGeo['Puntos'] < 1400000), 'Desviacion_Estandar'].tolist()\n",
    "desviacion_01 = np.mean(desviacion_01_lista)\n",
    "\n",
    "desviacion_1_lista = datos_rGeo.loc[datos_rGeo['Puntos'] > 1400000, 'Desviacion_Estandar'].tolist()\n",
    "desviacion_1 = np.mean(desviacion_1_lista)\n",
    "\n",
    "print('\\n')\n",
    "print('Desviacion Global = \\t\\t\\t\\t', desviacion_global)\n",
    "print('Media de Desviacion 0.0001 de los datos = \\t', desviacion_0001)\n",
    "print('Media de Desviacion 0.001 de los datos = \\t', desviacion_001)\n",
    "print('Media de Desviacion 0.01 de los datos = \\t', desviacion_01)\n",
    "print('Media de Desviacion 0.1 de los datos = \\t\\t', desviacion_1)"
   ]
  },
  {
   "cell_type": "code",
   "execution_count": 11,
   "id": "b2810b90",
   "metadata": {},
   "outputs": [
    {
     "data": {
      "text/plain": [
       "array([14667021,     1466,    14667,   146670,  1466702])"
      ]
     },
     "execution_count": 11,
     "metadata": {},
     "output_type": "execute_result"
    }
   ],
   "source": [
    "datos_rGeo['Puntos'].unique()"
   ]
  },
  {
   "cell_type": "code",
   "execution_count": 12,
   "id": "25168fcd",
   "metadata": {},
   "outputs": [
    {
     "name": "stdout",
     "output_type": "stream",
     "text": [
      "Media Global: 4068.73\n",
      "SSB: 8261.34, SSW: 66924720354038.32\n",
      "Grados de libertad - Entre grupos: 4, Dentro de grupos: 16296521\n",
      "MSB: 2065.34, MSW: 4106687.58\n",
      "Estadístico F: 0.0005\n",
      "P-valor: 1.0000\n",
      "No se rechaza la hipótesis nula: No hay evidencia suficiente para afirmar diferencias.\n"
     ]
    }
   ],
   "source": [
    "## Anova para el movimiento propio:\n",
    "\n",
    "n_global = 14667021\n",
    "n_10     = 1466702\n",
    "n_01     = 146670\n",
    "n_001    = 14667\n",
    "n_0001   = 1466\n",
    "\n",
    "\n",
    "# Datos proporcionados (reemplaza con tus valores)\n",
    "grupos = {\n",
    "    \"Global\": {\"media\": media_global, \"std\": desviacion_global, \"n\": n_global},\n",
    "    \"10%\": {\"media\": media_1, \"std\": desviacion_1, \"n\": n_10},\n",
    "    \"1%\": {\"media\": media_01, \"std\": desviacion_01, \"n\": n_01},\n",
    "    \"0.1%\": {\"media\": media_001, \"std\": desviacion_001, \"n\": n_001},\n",
    "    \"0.01%\": {\"media\": media_0001, \"std\": desviacion_0001, \"n\": n_0001},\n",
    "}\n",
    "\n",
    "# 1. Calcular la media global ponderada\n",
    "N_total = sum(grupo[\"n\"] for grupo in grupos.values())\n",
    "media_global = sum(grupo[\"media\"] * grupo[\"n\"] for grupo in grupos.values()) / N_total\n",
    "\n",
    "# 2. Calcular SSB (suma de cuadrados entre grupos)\n",
    "SSB = sum(grupo[\"n\"] * (grupo[\"media\"] - media_global) ** 2 for grupo in grupos.values())\n",
    "\n",
    "# 3. Calcular SSW (suma de cuadrados dentro de los grupos)\n",
    "SSW = sum((grupo[\"n\"] - 1) * (grupo[\"std\"] ** 2) for grupo in grupos.values())\n",
    "\n",
    "# 4. Grados de libertad\n",
    "k = len(grupos)  # Número de grupos\n",
    "df_B = k - 1\n",
    "df_W = N_total - k\n",
    "\n",
    "# 5. Calcular MSB y MSW\n",
    "MSB = SSB / df_B\n",
    "MSW = SSW / df_W\n",
    "\n",
    "# 6. Calcular estadístico F\n",
    "F_value = MSB / MSW\n",
    "\n",
    "# 7. Calcular p-valor\n",
    "p_value = 1 - f.cdf(F_value, df_B, df_W)\n",
    "\n",
    "# Resultados\n",
    "print(f\"Media Global: {media_global:.2f}\")\n",
    "print(f\"SSB: {SSB:.2f}, SSW: {SSW:.2f}\")\n",
    "print(f\"Grados de libertad - Entre grupos: {df_B}, Dentro de grupos: {df_W}\")\n",
    "print(f\"MSB: {MSB:.2f}, MSW: {MSW:.2f}\")\n",
    "print(f\"Estadístico F: {F_value:.4f}\")\n",
    "print(f\"P-valor: {p_value:.4f}\")\n",
    "\n",
    "# Interpretación\n",
    "alpha = 0.05\n",
    "if p_value < alpha:\n",
    "    print(\"Rechazamos la hipótesis nula: Hay diferencias significativas entre los grupos.\")\n",
    "else:\n",
    "    print(\"No se rechaza la hipótesis nula: No hay evidencia suficiente para afirmar diferencias.\")"
   ]
  },
  {
   "cell_type": "code",
   "execution_count": 13,
   "id": "ed429124",
   "metadata": {},
   "outputs": [
    {
     "name": "stdout",
     "output_type": "stream",
     "text": [
      "Estadístico de Bartlett: 1.7886\n",
      "P-valor: 0.7746\n",
      "No hay evidencia suficiente para decir que las varianzas son diferentes (se acepta la hipótesis nula).\n"
     ]
    }
   ],
   "source": [
    "n = [14667021, 1466702, 146670, 14667, 1466] \n",
    "std = [desviacion_global, desviacion_1, desviacion_01, desviacion_001, desviacion_0001]  # Ejemplo de desviaciones estándar\n",
    "\n",
    "# Convertir desviaciones estándar a varianzas\n",
    "variances = np.array(std) ** 2\n",
    "\n",
    "# Aplicar la prueba de Bartlett\n",
    "statistic, p_value = stats.bartlett(*[np.random.normal(0, np.sqrt(variances[i]), n[i]) for i in range(len(n))])\n",
    "\n",
    "# Mostrar resultados\n",
    "print(f\"Estadístico de Bartlett: {statistic:.4f}\")\n",
    "print(f\"P-valor: {p_value:.4f}\")\n",
    "\n",
    "# Interpretación\n",
    "if p_value < 0.05:\n",
    "    print(\"Las varianzas son significativamente diferentes (se rechaza la hipótesis nula).\")\n",
    "else:\n",
    "    print(\"No hay evidencia suficiente para decir que las varianzas son diferentes (se acepta la hipótesis nula).\")\n"
   ]
  },
  {
   "cell_type": "code",
   "execution_count": 14,
   "id": "272736ea",
   "metadata": {},
   "outputs": [
    {
     "name": "stdout",
     "output_type": "stream",
     "text": [
      "\t Datos Distancia Fotometrica \n",
      "\n",
      "\n",
      "Media Global = \t\t\t 4572.345726227781\n",
      "Media 0.0001 de los datos = \t 4571.057370938461\n",
      "Media 0.001 de los datos = \t 4572.469730674957\n",
      "Media 0.01 de los datos = \t 4572.520625872521\n",
      "Media 0.1 de los datos = \t 4572.368037026252\n",
      "\n",
      "\n",
      "Desviacion Global = \t\t\t\t 2026.3411381059784\n",
      "Media de Desviacion 0.0001 de los datos = \t 2027.672072642638\n",
      "Media de Desviacion 0.001 de los datos = \t 2028.0655121153172\n",
      "Media de Desviacion 0.01 de los datos = \t 2027.8048107554632\n",
      "Media de Desviacion 0.1 de los datos = \t\t 2027.9004981400924\n"
     ]
    }
   ],
   "source": [
    "datos_rPhoto = pd.read_table('/home/heidi/Documentos/Master/Datos/KDE/estadisticas_rPhoto.txt')\n",
    "media_global = datos_rPhoto.loc[datos_rPhoto['Fuente']=='Global', 'Media'].values[0]\n",
    "\n",
    "media_0001_lista = datos_rPhoto.loc[(datos_rPhoto['Puntos'] > 1300) & (datos_rPhoto['Puntos'] < 13000), 'Media'].tolist()\n",
    "media_0001 = np.mean(media_0001_lista)\n",
    "\n",
    "media_001_lista = datos_rPhoto.loc[(datos_rPhoto['Puntos'] > 13000) & (datos_rPhoto['Puntos'] < 130000), 'Media'].tolist()\n",
    "media_001 = np.mean(media_001_lista)\n",
    "\n",
    "media_01_lista = datos_rPhoto.loc[(datos_rPhoto['Puntos'] > 130000) & (datos_rPhoto['Puntos'] < 1300000), 'Media'].tolist()\n",
    "media_01 = np.mean(media_01_lista)\n",
    "\n",
    "media_1_lista = datos_rPhoto.loc[datos_rPhoto['Puntos'] > 1300000, 'Media'].tolist()\n",
    "media_1 = np.mean(media_1_lista)\n",
    "\n",
    "print('\\t Datos Distancia Fotometrica \\n\\n')\n",
    "print('Media Global = \\t\\t\\t', media_global)\n",
    "print('Media 0.0001 de los datos = \\t', media_0001)\n",
    "print('Media 0.001 de los datos = \\t', media_001)\n",
    "print('Media 0.01 de los datos = \\t', media_01)\n",
    "print('Media 0.1 de los datos = \\t', media_1)\n",
    "\n",
    "## Desviacion Estandar\n",
    "\n",
    "desviacion_global = datos_rGeo.loc[datos_rGeo['Fuente']=='Global', 'Desviacion_Estandar'].values[0]\n",
    "\n",
    "desviacion_0001_lista = datos_rGeo.loc[(datos_rGeo['Puntos'] > 1300) & (datos_rGeo['Puntos'] < 13000), 'Desviacion_Estandar'].tolist()\n",
    "desviacion_0001 = np.mean(desviacion_0001_lista)\n",
    "\n",
    "desviacion_001_lista = datos_rGeo.loc[(datos_rGeo['Puntos'] > 13000) & (datos_rGeo['Puntos'] < 130000), 'Desviacion_Estandar'].tolist()\n",
    "desviacion_001 = np.mean(desviacion_001_lista)\n",
    "\n",
    "desviacion_01_lista = datos_rGeo.loc[(datos_rGeo['Puntos'] > 130000) & (datos_rGeo['Puntos'] < 1300000), 'Desviacion_Estandar'].tolist()\n",
    "desviacion_01 = np.mean(desviacion_01_lista)\n",
    "\n",
    "desviacion_1_lista = datos_rGeo.loc[datos_rGeo['Puntos'] > 1300000, 'Desviacion_Estandar'].tolist()\n",
    "desviacion_1 = np.mean(desviacion_1_lista)\n",
    "\n",
    "print('\\n')\n",
    "print('Desviacion Global = \\t\\t\\t\\t', desviacion_global)\n",
    "print('Media de Desviacion 0.0001 de los datos = \\t', desviacion_0001)\n",
    "print('Media de Desviacion 0.001 de los datos = \\t', desviacion_001)\n",
    "print('Media de Desviacion 0.01 de los datos = \\t', desviacion_01)\n",
    "print('Media de Desviacion 0.1 de los datos = \\t\\t', desviacion_1)"
   ]
  },
  {
   "cell_type": "code",
   "execution_count": 15,
   "id": "710b74fd",
   "metadata": {},
   "outputs": [
    {
     "data": {
      "text/plain": [
       "array([13462369,     1346,    13462,   134623,  1346236])"
      ]
     },
     "execution_count": 15,
     "metadata": {},
     "output_type": "execute_result"
    }
   ],
   "source": [
    "datos_rPhoto['Puntos'].unique()"
   ]
  },
  {
   "cell_type": "code",
   "execution_count": 16,
   "id": "6f3b3d70",
   "metadata": {},
   "outputs": [
    {
     "name": "stdout",
     "output_type": "stream",
     "text": [
      "Media Global: 4572.35\n",
      "SSB: 7037.93, SSW: 61427960088579.11\n",
      "Grados de libertad - Entre grupos: 4, Dentro de grupos: 14958031\n",
      "MSB: 1759.48, MSW: 4106687.58\n",
      "Estadístico F: 0.0004\n",
      "P-valor: 1.0000\n",
      "No se rechaza la hipótesis nula: No hay evidencia suficiente para afirmar diferencias.\n"
     ]
    }
   ],
   "source": [
    "## Anova para el movimiento propio:\n",
    "\n",
    "n_global = 13462369\n",
    "n_10     = 1346236\n",
    "n_01     = 134623\n",
    "n_001    = 13462\n",
    "n_0001   = 1346\n",
    "\n",
    "\n",
    "# Datos proporcionados (reemplaza con tus valores)\n",
    "grupos = {\n",
    "    \"Global\": {\"media\": media_global, \"std\": desviacion_global, \"n\": n_global},\n",
    "    \"10%\": {\"media\": media_1, \"std\": desviacion_1, \"n\": n_10},\n",
    "    \"1%\": {\"media\": media_01, \"std\": desviacion_01, \"n\": n_01},\n",
    "    \"0.1%\": {\"media\": media_001, \"std\": desviacion_001, \"n\": n_001},\n",
    "    \"0.01%\": {\"media\": media_0001, \"std\": desviacion_0001, \"n\": n_0001},\n",
    "}\n",
    "\n",
    "# 1. Calcular la media global ponderada\n",
    "N_total = sum(grupo[\"n\"] for grupo in grupos.values())\n",
    "media_global = sum(grupo[\"media\"] * grupo[\"n\"] for grupo in grupos.values()) / N_total\n",
    "\n",
    "# 2. Calcular SSB (suma de cuadrados entre grupos)\n",
    "SSB = sum(grupo[\"n\"] * (grupo[\"media\"] - media_global) ** 2 for grupo in grupos.values())\n",
    "\n",
    "# 3. Calcular SSW (suma de cuadrados dentro de los grupos)\n",
    "SSW = sum((grupo[\"n\"] - 1) * (grupo[\"std\"] ** 2) for grupo in grupos.values())\n",
    "\n",
    "# 4. Grados de libertad\n",
    "k = len(grupos)  # Número de grupos\n",
    "df_B = k - 1\n",
    "df_W = N_total - k\n",
    "\n",
    "# 5. Calcular MSB y MSW\n",
    "MSB = SSB / df_B\n",
    "MSW = SSW / df_W\n",
    "\n",
    "# 6. Calcular estadístico F\n",
    "F_value = MSB / MSW\n",
    "\n",
    "# 7. Calcular p-valor\n",
    "p_value = 1 - f.cdf(F_value, df_B, df_W)\n",
    "\n",
    "# Resultados\n",
    "print(f\"Media Global: {media_global:.2f}\")\n",
    "print(f\"SSB: {SSB:.2f}, SSW: {SSW:.2f}\")\n",
    "print(f\"Grados de libertad - Entre grupos: {df_B}, Dentro de grupos: {df_W}\")\n",
    "print(f\"MSB: {MSB:.2f}, MSW: {MSW:.2f}\")\n",
    "print(f\"Estadístico F: {F_value:.4f}\")\n",
    "print(f\"P-valor: {p_value:.4f}\")\n",
    "\n",
    "# Interpretación\n",
    "alpha = 0.05\n",
    "if p_value < alpha:\n",
    "    print(\"Rechazamos la hipótesis nula: Hay diferencias significativas entre los grupos.\")\n",
    "else:\n",
    "    print(\"No se rechaza la hipótesis nula: No hay evidencia suficiente para afirmar diferencias.\")"
   ]
  },
  {
   "cell_type": "code",
   "execution_count": 17,
   "id": "d22da30e",
   "metadata": {},
   "outputs": [
    {
     "name": "stdout",
     "output_type": "stream",
     "text": [
      "Estadístico de Bartlett: 0.5990\n",
      "P-valor: 0.9632\n",
      "No hay evidencia suficiente para decir que las varianzas son diferentes (se acepta la hipótesis nula).\n"
     ]
    }
   ],
   "source": [
    "n = [13462369, 1346236, 134623, 13462, 1346] \n",
    "std = [desviacion_global, desviacion_1, desviacion_01, desviacion_001, desviacion_0001]  # Ejemplo de desviaciones estándar\n",
    "\n",
    "# Convertir desviaciones estándar a varianzas\n",
    "variances = np.array(std) ** 2\n",
    "\n",
    "# Aplicar la prueba de Bartlett\n",
    "statistic, p_value = stats.bartlett(*[np.random.normal(0, np.sqrt(variances[i]), n[i]) for i in range(len(n))])\n",
    "\n",
    "# Mostrar resultados\n",
    "print(f\"Estadístico de Bartlett: {statistic:.4f}\")\n",
    "print(f\"P-valor: {p_value:.4f}\")\n",
    "\n",
    "# Interpretación\n",
    "if p_value < 0.05:\n",
    "    print(\"Las varianzas son significativamente diferentes (se rechaza la hipótesis nula).\")\n",
    "else:\n",
    "    print(\"No hay evidencia suficiente para decir que las varianzas son diferentes (se acepta la hipótesis nula).\")\n"
   ]
  },
  {
   "cell_type": "code",
   "execution_count": 18,
   "id": "8fb91ab9",
   "metadata": {},
   "outputs": [
    {
     "name": "stdout",
     "output_type": "stream",
     "text": [
      "\t Datos Palaje \n",
      "\n",
      "\n",
      "Media Global = \t\t\t 0.3756192536619082\n",
      "Media 0.0001 de los datos = \t 0.3762433718517522\n",
      "Media 0.001 de los datos = \t 0.3758122788154555\n",
      "Media 0.01 de los datos = \t 0.37555326148036494\n",
      "Media 0.1 de los datos = \t 0.3756160033796087\n",
      "\n",
      "\n",
      "Desviacion Global = \t\t\t\t 2026.3411381059784\n",
      "Media de Desviacion 0.0001 de los datos = \t 2027.672072642638\n",
      "Media de Desviacion 0.001 de los datos = \t 2028.0655121153172\n",
      "Media de Desviacion 0.01 de los datos = \t 2027.8048107554632\n",
      "Media de Desviacion 0.1 de los datos = \t\t 2027.9004981400924\n"
     ]
    }
   ],
   "source": [
    "datos_paralaje = pd.read_table('/home/heidi/Documentos/Master/Datos/KDE/estadisticas_paralaje.txt')\n",
    "media_global = datos_paralaje.loc[datos_paralaje['Fuente']=='Global', 'Media'].values[0]\n",
    "\n",
    "media_0001_lista = datos_paralaje.loc[(datos_paralaje['Puntos'] > 1400) & (datos_paralaje['Puntos'] < 14000), 'Media'].tolist()\n",
    "media_0001 = np.mean(media_0001_lista)\n",
    "\n",
    "media_001_lista = datos_paralaje.loc[(datos_paralaje['Puntos'] > 14000) & (datos_paralaje['Puntos'] < 140000), 'Media'].tolist()\n",
    "media_001 = np.mean(media_001_lista)\n",
    "\n",
    "media_01_lista = datos_paralaje.loc[(datos_paralaje['Puntos'] > 140000) & (datos_paralaje['Puntos'] < 1400000), 'Media'].tolist()\n",
    "media_01 = np.mean(media_01_lista)\n",
    "\n",
    "media_1_lista = datos_paralaje.loc[datos_paralaje['Puntos'] > 1400000, 'Media'].tolist()\n",
    "media_1 = np.mean(media_1_lista)\n",
    "\n",
    "print('\\t Datos Palaje \\n\\n')\n",
    "print('Media Global = \\t\\t\\t', media_global)\n",
    "print('Media 0.0001 de los datos = \\t', media_0001)\n",
    "print('Media 0.001 de los datos = \\t', media_001)\n",
    "print('Media 0.01 de los datos = \\t', media_01)\n",
    "print('Media 0.1 de los datos = \\t', media_1)\n",
    "\n",
    "## Desviacion Estandar\n",
    "\n",
    "desviacion_global = datos_rGeo.loc[datos_rGeo['Fuente']=='Global', 'Desviacion_Estandar'].values[0]\n",
    "\n",
    "desviacion_0001_lista = datos_rGeo.loc[(datos_rGeo['Puntos'] > 1400) & (datos_rGeo['Puntos'] < 14000), 'Desviacion_Estandar'].tolist()\n",
    "desviacion_0001 = np.mean(desviacion_0001_lista)\n",
    "\n",
    "desviacion_001_lista = datos_rGeo.loc[(datos_rGeo['Puntos'] > 14000) & (datos_rGeo['Puntos'] < 140000), 'Desviacion_Estandar'].tolist()\n",
    "desviacion_001 = np.mean(desviacion_001_lista)\n",
    "\n",
    "desviacion_01_lista = datos_rGeo.loc[(datos_rGeo['Puntos'] > 140000) & (datos_rGeo['Puntos'] < 1400000), 'Desviacion_Estandar'].tolist()\n",
    "desviacion_01 = np.mean(desviacion_01_lista)\n",
    "\n",
    "desviacion_1_lista = datos_rGeo.loc[datos_rGeo['Puntos'] > 1400000, 'Desviacion_Estandar'].tolist()\n",
    "desviacion_1 = np.mean(desviacion_1_lista)\n",
    "\n",
    "print('\\n')\n",
    "print('Desviacion Global = \\t\\t\\t\\t', desviacion_global)\n",
    "print('Media de Desviacion 0.0001 de los datos = \\t', desviacion_0001)\n",
    "print('Media de Desviacion 0.001 de los datos = \\t', desviacion_001)\n",
    "print('Media de Desviacion 0.01 de los datos = \\t', desviacion_01)\n",
    "print('Media de Desviacion 0.1 de los datos = \\t\\t', desviacion_1)"
   ]
  },
  {
   "cell_type": "code",
   "execution_count": 19,
   "id": "d15f2137",
   "metadata": {},
   "outputs": [
    {
     "data": {
      "text/plain": [
       "array([14720969,     1472,    14720,   147209,  1472096])"
      ]
     },
     "execution_count": 19,
     "metadata": {},
     "output_type": "execute_result"
    }
   ],
   "source": [
    "datos_paralaje['Puntos'].unique()"
   ]
  },
  {
   "cell_type": "code",
   "execution_count": 20,
   "id": "5920bf33",
   "metadata": {},
   "outputs": [
    {
     "name": "stdout",
     "output_type": "stream",
     "text": [
      "Media Global: 0.38\n",
      "SSB: 0.00, SSW: 67170875197309.79\n",
      "Grados de libertad - Entre grupos: 4, Dentro de grupos: 16356461\n",
      "MSB: 0.00, MSW: 4106687.58\n",
      "Estadístico F: 0.0000\n",
      "P-valor: 1.0000\n",
      "No se rechaza la hipótesis nula: No hay evidencia suficiente para afirmar diferencias.\n"
     ]
    }
   ],
   "source": [
    "## Anova para el movimiento propio:\n",
    "\n",
    "n_global = 14720969\n",
    "n_10     = 1472096\n",
    "n_01     = 147209\n",
    "n_001    = 14720\n",
    "n_0001   = 1472\n",
    "\n",
    "\n",
    "# Datos proporcionados (reemplaza con tus valores)\n",
    "grupos = {\n",
    "    \"Global\": {\"media\": media_global, \"std\": desviacion_global, \"n\": n_global},\n",
    "    \"10%\": {\"media\": media_1, \"std\": desviacion_1, \"n\": n_10},\n",
    "    \"1%\": {\"media\": media_01, \"std\": desviacion_01, \"n\": n_01},\n",
    "    \"0.1%\": {\"media\": media_001, \"std\": desviacion_001, \"n\": n_001},\n",
    "    \"0.01%\": {\"media\": media_0001, \"std\": desviacion_0001, \"n\": n_0001},\n",
    "}\n",
    "\n",
    "# 1. Calcular la media global ponderada\n",
    "N_total = sum(grupo[\"n\"] for grupo in grupos.values())\n",
    "media_global = sum(grupo[\"media\"] * grupo[\"n\"] for grupo in grupos.values()) / N_total\n",
    "\n",
    "# 2. Calcular SSB (suma de cuadrados entre grupos)\n",
    "SSB = sum(grupo[\"n\"] * (grupo[\"media\"] - media_global) ** 2 for grupo in grupos.values())\n",
    "\n",
    "# 3. Calcular SSW (suma de cuadrados dentro de los grupos)\n",
    "SSW = sum((grupo[\"n\"] - 1) * (grupo[\"std\"] ** 2) for grupo in grupos.values())\n",
    "\n",
    "# 4. Grados de libertad\n",
    "k = len(grupos)  # Número de grupos\n",
    "df_B = k - 1\n",
    "df_W = N_total - k\n",
    "\n",
    "# 5. Calcular MSB y MSW\n",
    "MSB = SSB / df_B\n",
    "MSW = SSW / df_W\n",
    "\n",
    "# 6. Calcular estadístico F\n",
    "F_value = MSB / MSW\n",
    "\n",
    "# 7. Calcular p-valor\n",
    "p_value = 1 - f.cdf(F_value, df_B, df_W)\n",
    "\n",
    "# Resultados\n",
    "print(f\"Media Global: {media_global:.2f}\")\n",
    "print(f\"SSB: {SSB:.2f}, SSW: {SSW:.2f}\")\n",
    "print(f\"Grados de libertad - Entre grupos: {df_B}, Dentro de grupos: {df_W}\")\n",
    "print(f\"MSB: {MSB:.2f}, MSW: {MSW:.2f}\")\n",
    "print(f\"Estadístico F: {F_value:.4f}\")\n",
    "print(f\"P-valor: {p_value:.4f}\")\n",
    "\n",
    "# Interpretación\n",
    "alpha = 0.05\n",
    "if p_value < alpha:\n",
    "    print(\"Rechazamos la hipótesis nula: Hay diferencias significativas entre los grupos.\")\n",
    "else:\n",
    "    print(\"No se rechaza la hipótesis nula: No hay evidencia suficiente para afirmar diferencias.\")"
   ]
  },
  {
   "cell_type": "code",
   "execution_count": 21,
   "id": "48ab2726",
   "metadata": {},
   "outputs": [
    {
     "name": "stdout",
     "output_type": "stream",
     "text": [
      "Estadístico de Bartlett: 2.7707\n",
      "P-valor: 0.5969\n",
      "No hay evidencia suficiente para decir que las varianzas son diferentes (se acepta la hipótesis nula).\n"
     ]
    }
   ],
   "source": [
    "n = [14720969, 1472096, 147209, 14720, 14720] \n",
    "std = [desviacion_global, desviacion_1, desviacion_01, desviacion_001, desviacion_0001]  # Ejemplo de desviaciones estándar\n",
    "\n",
    "# Convertir desviaciones estándar a varianzas\n",
    "variances = np.array(std) ** 2\n",
    "\n",
    "# Aplicar la prueba de Bartlett\n",
    "statistic, p_value = stats.bartlett(*[np.random.normal(0, np.sqrt(variances[i]), n[i]) for i in range(len(n))])\n",
    "\n",
    "# Mostrar resultados\n",
    "print(f\"Estadístico de Bartlett: {statistic:.4f}\")\n",
    "print(f\"P-valor: {p_value:.4f}\")\n",
    "\n",
    "# Interpretación\n",
    "if p_value < 0.05:\n",
    "    print(\"Las varianzas son significativamente diferentes (se rechaza la hipótesis nula).\")\n",
    "else:\n",
    "    print(\"No hay evidencia suficiente para decir que las varianzas son diferentes (se acepta la hipótesis nula).\")\n"
   ]
  },
  {
   "cell_type": "code",
   "execution_count": null,
   "id": "d5b7a6b0",
   "metadata": {},
   "outputs": [],
   "source": []
  }
 ],
 "metadata": {
  "kernelspec": {
   "display_name": "Python 3 (ipykernel)",
   "language": "python",
   "name": "python3"
  },
  "language_info": {
   "codemirror_mode": {
    "name": "ipython",
    "version": 3
   },
   "file_extension": ".py",
   "mimetype": "text/x-python",
   "name": "python",
   "nbconvert_exporter": "python",
   "pygments_lexer": "ipython3",
   "version": "3.10.12"
  }
 },
 "nbformat": 4,
 "nbformat_minor": 5
}
